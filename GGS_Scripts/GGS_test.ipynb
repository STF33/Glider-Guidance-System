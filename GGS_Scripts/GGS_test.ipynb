{
 "cells": [
  {
   "cell_type": "code",
   "execution_count": 11,
   "metadata": {},
   "outputs": [],
   "source": [
    "# =========================\n",
    "# IMPORTS\n",
    "# =========================\n",
    "\n",
    "from X_functions import *\n",
    "from X_config import *\n",
    "from X_models import *\n",
    "from X_interpolation import *\n",
    "from X_plots import *\n",
    "\n",
    "# ========================="
   ]
  },
  {
   "cell_type": "code",
   "execution_count": 2,
   "metadata": {},
   "outputs": [
    {
     "name": "stdout",
     "output_type": "stream",
     "text": [
      "\n",
      "\n",
      "### Glider Guidance System (GGS) Configuration ###\n",
      "\n",
      "Glider name: SENTINEL\n",
      "\n",
      "Execution date: 2024-03-21 00:17:23.940528+00:00\n",
      "\n",
      "Max Depth: 1000\n",
      "\n",
      "Extent:\n",
      "  Boundary 1: (10, -78)\n",
      "  Boundary 2: (44, -10)\n",
      "\n",
      "GPS_coords:\n",
      "  GPS_coord 1: (41.675, -70.522)\n",
      "  GPS_coord 2: (15.067, -23.65)\n",
      "\n"
     ]
    }
   ],
   "source": [
    "# =========================\n",
    "\n",
    "target_datetime=dt.datetime.now(dt.timezone.utc)\n",
    "\n",
    "config = GGS_config_static(date=target_datetime)\n",
    "root_directory = GGS_config_output(config, path=\"default\")\n",
    "\n",
    "datetime_index = [target_datetime.replace(hour=0, minute=0, second=0, microsecond=0).strftime('%Y-%m-%dT%H:%M:%SZ')]\n",
    "datetime_index = datetime_index[0]\n",
    "glider_data = None\n",
    "\n",
    "sub_directory_plots = os.path.join(root_directory, \"plots\", ''.join(datetime_index[:10].split('-')))\n",
    "os.makedirs(sub_directory_plots, exist_ok=True)\n",
    "sub_directory_data = os.path.join(root_directory, \"data\", ''.join(datetime_index[:10].split('-')))\n",
    "os.makedirs(sub_directory_data, exist_ok=True)\n",
    "\n",
    "# =========================\n",
    "\n",
    "# model_datasets = []\n",
    "\n",
    "# cmems = CMEMS(username='sfricano1', password='GlobalGliders1')\n",
    "# cmems.cmems_load(config, datetime_index, subset_extent=True, subset_depth=True)\n",
    "# cmems.cmems_save(config, sub_directory_data, save_data=False, save_qc=False)\n",
    "# cmems_model_data = cmems.data\n",
    "\n",
    "# cmems_depth_average, cmems_bin_average = interpolate_cmems(config, sub_directory_data, cmems_model_data, chunk=True, save_depth_average=True, save_bin_average=False)\n",
    "\n",
    "# cmems_datasets = (cmems_model_data, cmems_depth_average, cmems_bin_average)\n",
    "# model_datasets.append(cmems_datasets)\n",
    "\n",
    "# =========================\n",
    "\n",
    "# latitude_qc = 0\n",
    "# longitude_qc = 0\n",
    "\n",
    "# GGS_plot_magnitudes(config, sub_directory_plots, datetime_index, model_datasets, latitude_qc=latitude_qc, longitude_qc=longitude_qc, density=2, gliders=glider_data, show_route=False, show_qc=False, show_eez=True, manual_extent=None)\n",
    "# GGS_plot_threshold(config, sub_directory_plots, datetime_index, model_datasets, latitude_qc=latitude_qc, longitude_qc=longitude_qc, density=2, mag1=0.0, mag2=0.2, mag3=0.3, mag4=0.4, mag5=0.5, gliders=glider_data, show_route=False, show_qc=False, show_eez=True, manual_extent=None)\n",
    "# GGS_plot_advantage(config, sub_directory_plots, datetime_index, model_datasets, latitude_qc=latitude_qc, longitude_qc=longitude_qc, density=2, tolerance=15, mag1=0.0, mag2=0.2, mag3=0.3, mag4=0.4, mag5=0.5, gliders=glider_data, show_route=True, show_qc=False, show_eez=True, manual_extent=None)\n",
    "# GGS_plot_profiles(config, sub_directory_plots, datetime_index, model_datasets, latitude_qc=latitude_qc, longitude_qc=longitude_qc, threshold=0.5)\n",
    "\n",
    "# ========================="
   ]
  },
  {
   "cell_type": "markdown",
   "metadata": {},
   "source": [
    "---"
   ]
  },
  {
   "cell_type": "code",
   "execution_count": null,
   "metadata": {},
   "outputs": [],
   "source": [
    "cmems_model_data = xr.open_dataset('C:/Users/sal_f/OneDrive/Desktop/STF-0/!-GGS/GGS_Scripts/data/SENTINEL1_CMEMS_DepthAverage_20240321T00Z.nc')\n",
    "cmems_depth_average = xr.open_dataset('C:/Users/sal_f/OneDrive/Desktop/STF-0/!-GGS/GGS_Scripts/data/SENTINEL1_CMEMS_DepthAverage_20240321T00Z.nc')\n",
    "cmems_bin_average = xr.open_dataset('C:/Users/sal_f/OneDrive/Desktop/STF-0/!-GGS/GGS_Scripts/data/SENTINEL1_CMEMS_DepthAverage_20240321T00Z.nc')\n",
    "\n",
    "cmems_datasets = (cmems_model_data, cmems_depth_average, cmems_bin_average)\n",
    "model_datasets.append(cmems_datasets)\n",
    "\n",
    "GGS_plot_advantage(config, sub_directory_plots, datetime_index, model_datasets, latitude_qc=latitude_qc, longitude_qc=longitude_qc, density=2, tolerance=15, mag1=0.0, mag2=0.2, mag3=0.3, mag4=0.4, mag5=0.5, gliders=glider_data, show_route=True, show_qc=False, show_eez=True, manual_extent=None)\n"
   ]
  },
  {
   "cell_type": "markdown",
   "metadata": {},
   "source": [
    "---"
   ]
  },
  {
   "cell_type": "code",
   "execution_count": null,
   "metadata": {},
   "outputs": [],
   "source": [
    "# import geopandas as gpd\n",
    "# import simplekml\n",
    "# import numpy as np\n",
    "# import pandas as pd\n",
    "\n",
    "# def dataset_to_kml_shp(config, directory, depth_average_data):\n",
    "    \n",
    "#     dataset_datetime = depth_average_data.attrs['model_datetime']\n",
    "#     file_datetime = format_save_datetime(dataset_datetime)\n",
    "    \n",
    "#     depth_average_data = depth_average_data['mag_depth_avg'].isel(time=0)\n",
    "    \n",
    "#     lat, lon = np.meshgrid(depth_average_data['lat'].values, depth_average_data['lon'].values, indexing='ij')\n",
    "#     mag = depth_average_data.values.flatten()\n",
    "#     valid = ~np.isnan(mag)\n",
    "    \n",
    "#     depth_average_dataframe = pd.DataFrame({\n",
    "#         'Longitude': lon.flatten()[valid],\n",
    "#         'Latitude': lat.flatten()[valid],\n",
    "#         'Magnitude': mag[valid]\n",
    "#     })\n",
    "    \n",
    "#     gdf = gpd.GeoDataFrame(depth_average_dataframe, geometry=gpd.points_from_xy(depth_average_dataframe.Longitude, depth_average_dataframe.Latitude))\n",
    "#     shp_filename = f\"DepthAverageMagnitude_{config['max_depth']}m_{file_datetime}.shp\"\n",
    "#     shp_path = os.path.join(directory, shp_filename)\n",
    "#     gdf.to_file(shp_path)\n",
    "    \n",
    "#     kml = simplekml.Kml()\n",
    "#     for index, row in depth_average_dataframe.iterrows():\n",
    "#         kml.newpoint(name=f\"Magnitude: {row['Magnitude']}\", coords=[(row['Longitude'], row['Latitude'])])\n",
    "#     kml_filename = f\"DepthAverageMagnitude_{config['max_depth']}m_{file_datetime}.kml\"  # Corrected the extension here\n",
    "#     kml_path = os.path.join(directory, kml_filename)\n",
    "#     kml.save(kml_path)\n",
    "\n",
    "# dataset_to_kml_shp(config, sub_directory_data, cmems_depth_average)"
   ]
  },
  {
   "cell_type": "code",
   "execution_count": null,
   "metadata": {},
   "outputs": [],
   "source": [
    "# import xarray as xr\n",
    "# import numpy as np\n",
    "# import dask.array as da\n",
    "\n",
    "# bathymetry_path = config[\"bathymetry_path\"]\n",
    "# bathy_data = xr.open_dataset(bathymetry_path, chunks={'lat': 500, 'lon': 500})\n",
    "\n",
    "# # Define the function to create a mask for values close to the isobaths\n",
    "# def mask_isobaths(elevation, levels=[-100, -1000], tolerance=10):\n",
    "#     # Convert elevation to a dask array for manual operations\n",
    "#     elevation_dask = elevation.data\n",
    "#     mask = da.zeros(elevation_dask.shape, dtype=bool)\n",
    "#     # Update the mask for each isobath level\n",
    "#     for level in levels:\n",
    "#         mask |= (elevation_dask >= level - tolerance) & (elevation_dask <= level + tolerance)\n",
    "#     return xr.DataArray(mask, dims=elevation.dims, coords=elevation.coords)\n",
    "\n",
    "# isobath_mask = mask_isobaths(bathy_data['elevation'])\n",
    "# isobath_mask_computed = isobath_mask.compute()\n",
    "# filtered_data = bathy_data.where(isobath_mask_computed, drop=True)\n",
    "\n",
    "# # Compute the filtered data (if necessary and feasible)\n",
    "# # Note: This step may still be memory-intensive depending on your dataset's size and system's capacity.\n",
    "# # Consider further chunking or working with subsets if memory errors persist.\n",
    "# # filtered_data = filtered_data.compute()\n",
    "\n",
    "# # Save the filtered dataset to a new file\n",
    "# path_to_save = 'C:/Users/sal_f/OneDrive/Desktop/STF-0/!-GGS/GGS_Scripts/data/isobaths_data.nc'\n",
    "# filtered_data.to_netcdf(path_to_save)\n",
    "\n",
    "# print(f'Saved filtered isobath data to {path_to_save}')\n"
   ]
  },
  {
   "cell_type": "code",
   "execution_count": null,
   "metadata": {},
   "outputs": [],
   "source": []
  }
 ],
 "metadata": {
  "kernelspec": {
   "display_name": "env_ggs0",
   "language": "python",
   "name": "python3"
  },
  "language_info": {
   "codemirror_mode": {
    "name": "ipython",
    "version": 3
   },
   "file_extension": ".py",
   "mimetype": "text/x-python",
   "name": "python",
   "nbconvert_exporter": "python",
   "pygments_lexer": "ipython3",
   "version": "3.12.1"
  }
 },
 "nbformat": 4,
 "nbformat_minor": 2
}
