{
 "cells": [
  {
   "cell_type": "code",
   "execution_count": 1,
   "metadata": {},
   "outputs": [
    {
     "name": "stderr",
     "output_type": "stream",
     "text": [
      "c:\\Users\\sal_f\\anaconda3\\envs\\env_ggs0\\Lib\\site-packages\\tqdm\\auto.py:21: TqdmWarning: IProgress not found. Please update jupyter and ipywidgets. See https://ipywidgets.readthedocs.io/en/stable/user_install.html\n",
      "  from .autonotebook import tqdm as notebook_tqdm\n"
     ]
    }
   ],
   "source": [
    "# =========================\n",
    "# X - IMPORTS\n",
    "# =========================\n",
    "\n",
    "from X_functions import *\n",
    "from X_config import *\n",
    "from X_models import *\n",
    "from X_interpolation import *\n",
    "from X_plots import *\n",
    "\n",
    "# =========================\n"
   ]
  },
  {
   "cell_type": "code",
   "execution_count": 2,
   "metadata": {},
   "outputs": [
    {
     "name": "stdout",
     "output_type": "stream",
     "text": [
      "\n",
      "\n",
      "### Glider Guidance System (GGS) Configuration ###\n",
      "\n",
      "Glider name: Yucatan\n",
      "\n",
      "Execution date: 2024-02-18 21:58:44.004914+00:00\n",
      "\n",
      "Max Depth: 100\n",
      "\n",
      "Extent:\n",
      "  Boundary 1: (15, -93)\n",
      "  Boundary 2: (30, -77)\n",
      "\n",
      "GPS_coords:\n",
      "  GPS_coord 1: (39.4, -74.2)\n",
      "  GPS_coord 2: (39.3, -71.2)\n",
      "\n"
     ]
    }
   ],
   "source": [
    "config = GGS_config_static(date=dt.datetime.now(timezone.utc))\n",
    "root_directory = GGS_config_output(config, path=\"default\")\n",
    "datetime_index = \"2024-02-18 00:00:00.000000+00:00\"\n"
   ]
  },
  {
   "cell_type": "code",
   "execution_count": 3,
   "metadata": {},
   "outputs": [
    {
     "name": "stdout",
     "output_type": "stream",
     "text": [
      "\n",
      "### MODEL DATA: [RTOFS] ###\n",
      "\n",
      "MODEL DATA ACQUIRED\n",
      "Requested datetime: 2024-02-18 00:00:00.000000+00:00\n",
      "Nearest datetime index in the dataset: 6642\n",
      "Acquired datetime: 2024-02-18T00:00:00.000000000\n",
      "\n",
      "### INTERPOLATING MODEL DATA ###\n",
      "\n",
      "Start time (UTC): 2024-02-18 21:58:52.536516\n",
      "End time (UTC): 2024-02-18 22:02:21.309572\n",
      "Run time: 0:03:28.773056\n"
     ]
    }
   ],
   "source": [
    "rtofs = RTOFS()\n",
    "rtofs.rtofs_load(datetime_index)\n",
    "rtofs.rtofs_subset(config, subset=True) # [subset] OPTIONS: True = Config Extent, False = Full Extent\n",
    "rtofs.rtofs_save(config, root_directory, save_data=False, save_qc=False) # [save] OPTIONS: True = Save Data File, False = Do Not Save Data File\n",
    "rtofs_data = rtofs.data\n",
    "rtofs_qc = rtofs.qc\n",
    "\n",
    "depth_average_rtofs, bin_average_rtofs = interpolate_rtofs(config, root_directory, rtofs_data, chunk=False, save_depth_average=True, save_bin_average=False) # [save] OPTIONS: True = Save Data File, False = Do Not Save Data File\n",
    "\n",
    "# depth_average_rtofs = xr.open_dataset(root_directory + \"/\" + \"Yucatan_RTOFS_DepthAverage_20240218T00Z.nc\")"
   ]
  },
  {
   "cell_type": "code",
   "execution_count": 4,
   "metadata": {},
   "outputs": [
    {
     "name": "stdout",
     "output_type": "stream",
     "text": [
      "\n",
      "### MODEL DATA: [CMEMS] ###\n",
      "\n",
      "INFO - 2024-02-18T22:02:21Z - Dataset version was not specified, the latest one was selected: \"202211\"\n",
      "INFO - 2024-02-18T22:02:21Z - Dataset part was not specified, the first one was selected: \"default\"\n",
      "INFO - 2024-02-18T22:02:23Z - Service was not specified, the default one was selected: \"arco-geo-series\"\n",
      "\n",
      "### INTERPOLATING MODEL DATA ###\n",
      "\n",
      "Start time (UTC): 2024-02-18 22:02:26.472398\n",
      "End time (UTC): 2024-02-18 22:05:12.399347\n",
      "Run time: 0:02:45.926949\n"
     ]
    }
   ],
   "source": [
    "cmems = CMEMS(username='sfricano1', password='GlobalGliders1')\n",
    "cmems.cmems_load(config, datetime_index)\n",
    "cmems.cmems_subset(config, subset=True) # [subset] OPTIONS: True = Depth Subset, False = Full Depth Range\n",
    "cmems.cmems_save(config, root_directory, save_data=False, save_qc=False) # [save] OPTIONS: True = Save Data File, False = Do Not Save Data File\n",
    "cmems_data = cmems.data\n",
    "cmems_qc = cmems.qc\n",
    "\n",
    "depth_average_cmems, bin_average_cmems = interpolate_cmems(config, root_directory, cmems_data, chunk=False, save_depth_average=True, save_bin_average=False)\n",
    "\n",
    "# depth_average_cmems = xr.open_dataset(root_directory + \"/\" + \"Yucatan_CMEMS_DepthAverage_20240218T00Z.nc\")"
   ]
  },
  {
   "cell_type": "code",
   "execution_count": 5,
   "metadata": {},
   "outputs": [
    {
     "name": "stdout",
     "output_type": "stream",
     "text": [
      "\n",
      "### CREATING RTOFS MAGNITUDE PLOT ###\n",
      "\n",
      "Start time (UTC): 2024-02-18 22:05:12.408054\n",
      "Found 7 Glider Datasets within search window.\n",
      "Glider Indexes found: sp071-20231220T1541, sg625-20240119T0000, sg652-20240119T0000, sp065-20240214T1520, mote-dora-20240118T0000, stommel-20240128T1522, ru38-20240128T1523\n",
      "End time (UTC): 2024-02-18 22:06:52.496787\n",
      "Run time: 0:01:40.088733\n",
      "\n",
      "### CREATING RTOFS THRESHOLD PLOT ###\n",
      "\n",
      "Start time (UTC): 2024-02-18 22:06:52.498800\n",
      "Found 7 Glider Datasets within search window.\n",
      "Glider Indexes found: sp071-20231220T1541, sg625-20240119T0000, sg652-20240119T0000, sp065-20240214T1520, mote-dora-20240118T0000, stommel-20240128T1522, ru38-20240128T1523\n",
      "End time (UTC): 2024-02-18 22:07:15.051888\n",
      "Run time: 0:00:22.553088\n",
      "\n",
      "### CREATING CMEMS MAGNITUDE PLOT ###\n",
      "\n",
      "Start time (UTC): 2024-02-18 22:07:15.054389\n",
      "Found 7 Glider Datasets within search window.\n",
      "Glider Indexes found: sp071-20231220T1541, sg625-20240119T0000, sg652-20240119T0000, sp065-20240214T1520, mote-dora-20240118T0000, stommel-20240128T1522, ru38-20240128T1523\n",
      "End time (UTC): 2024-02-18 22:07:38.453666\n",
      "Run time: 0:00:23.399277\n",
      "\n",
      "### CREATING CMEMS THRESHOLD PLOT ###\n",
      "\n",
      "Start time (UTC): 2024-02-18 22:07:38.456716\n",
      "Found 7 Glider Datasets within search window.\n",
      "Glider Indexes found: sp071-20231220T1541, sg625-20240119T0000, sg652-20240119T0000, sp065-20240214T1520, mote-dora-20240118T0000, stommel-20240128T1522, ru38-20240128T1523\n",
      "End time (UTC): 2024-02-18 22:08:01.475171\n",
      "Run time: 0:00:23.018455\n"
     ]
    }
   ],
   "source": [
    "latitude_qc = '20.30'\n",
    "longitude_qc = '-86.50'\n",
    "\n",
    "GGS_plot_magnitude(config, root_directory, depth_average_rtofs, latitude_qc, longitude_qc, model_name=\"rtofs\", density=2, show_gliders=True, show_route=False, show_qc=False, manual_extent=None)\n",
    "GGS_plot_threshold(config, root_directory, depth_average_rtofs, latitude_qc, longitude_qc, model_name=\"rtofs\", density=2, mag1=0.0, mag2=0.2, mag3=0.3, mag4=0.4, mag5=0.5, show_gliders=True, show_route=False, show_qc=False, manual_extent=None)\n",
    "\n",
    "GGS_plot_magnitude(config, root_directory, depth_average_cmems, latitude_qc, longitude_qc, model_name=\"cmems\", density=2, show_gliders=True, show_route=False, show_qc=False, manual_extent=None)\n",
    "GGS_plot_threshold(config, root_directory, depth_average_cmems, latitude_qc, longitude_qc, model_name=\"cmems\", density=2, mag1=0.0, mag2=0.2, mag3=0.3, mag4=0.4, mag5=0.5, show_gliders=True, show_route=False, show_qc=False, manual_extent=None)\n"
   ]
  },
  {
   "cell_type": "code",
   "execution_count": 9,
   "metadata": {},
   "outputs": [],
   "source": [
    "### FUNCTION:\n",
    "def GGS_plot_magnitude_dual(config, directory, depth_average_data_1, depth_average_data_2, latitude_qc, longitude_qc, model_name_1=None, model_name_2=None, density=2, show_gliders=False, show_route=False, show_qc=False, manual_extent=None):\n",
    "    \n",
    "    '''\n",
    "    Plot the depth-averaged current fields from two datasets side by side.\n",
    "\n",
    "    Args:\n",
    "    - config (dict): Glider Guidance System mission configuration.\n",
    "    - directory (str): Glider Guidance System mission directory.\n",
    "    - depth_average_data1, depth_average_data2 (xarray.Dataset): Datasets with the computed variables and layer information for side-by-side comparison.\n",
    "    - qc_latitude (float): Latitude of the QC sample point.\n",
    "    - qc_longitude (float): Longitude of the QC sample point.\n",
    "    - model_name (str, optional): Name of the model.\n",
    "    - density (int, optional): Density of the streamplot.\n",
    "    - show_route (bool, optional): Show the route on the plot.\n",
    "    - show_qc (bool, optional): Show the QC sample point.\n",
    "    - manual_extent (list or str, optional): Manual specification of plot extent as [west, east, south, north], or \"config\" to use extent from config.\n",
    "\n",
    "    Returns:\n",
    "    - None\n",
    "    '''\n",
    "\n",
    "    # INITIALIZATION\n",
    "    if model_name_1 is None:\n",
    "        model_name_1 = \"Unknown\"\n",
    "    else:\n",
    "        model_name_1 = model_name_1.upper()\n",
    "    if model_name_2 is None:\n",
    "        model_name_2 = \"Unknown\"\n",
    "    else:\n",
    "        model_name_2 = model_name_2.upper()\n",
    "    \n",
    "    print(f\"\\n### CREATING DUAL ({model_name_1}, {model_name_2}) MAGNITUDE PLOT ###\\n\")\n",
    "    start_time = dt.datetime.now()\n",
    "\n",
    "    # PLOTTING FUNCTION\n",
    "    def plot_magnitude(ax, config, depth_average_data, latitude_qc, longitude_qc, model_name, density, show_gliders, show_route, show_qc, manual_extent):\n",
    "        \n",
    "        # DATA EXTRACTION\n",
    "        longitude = depth_average_data.lon.values.squeeze()\n",
    "        latitude = depth_average_data.lat.values.squeeze()\n",
    "        u_depth_avg = depth_average_data['u_depth_avg'].values.squeeze()\n",
    "        v_depth_avg = depth_average_data['v_depth_avg'].values.squeeze()\n",
    "        mag_depth_avg = depth_average_data['mag_depth_avg'].values.squeeze()\n",
    "        \n",
    "        # EXTENT SETUP\n",
    "        if manual_extent == \"config\":\n",
    "            map_extent = [config['extent'][0][1], config['extent'][1][1], config['extent'][0][0], config['extent'][1][0]]\n",
    "        elif isinstance(manual_extent, list) and len(manual_extent) == 4:\n",
    "            map_extent = manual_extent\n",
    "        else:\n",
    "            data_extent_lon = [float(longitude.min()), float(longitude.max())]\n",
    "            data_extent_lat = [float(latitude.min()), float(latitude.max())]\n",
    "            map_extent = data_extent_lon + data_extent_lat\n",
    "        ax.set_extent(map_extent, crs=ccrs.PlateCarree())\n",
    "        plot_formatted_ticks(ax, map_extent[:2], map_extent[2:], proj=ccrs.PlateCarree(), fontsize=10, label_left=True, label_right=False, label_bottom=True, label_top=False, gridlines=True)\n",
    "\n",
    "        # PLOT ELEMENTS\n",
    "        levels, ticks, extend = plot_contour_cbar(mag_depth_avg, max_levels=10, extend_max=True)\n",
    "        contourf = ax.contourf(longitude, latitude, mag_depth_avg, levels=levels, cmap=cmo.speed, transform=ccrs.PlateCarree(), zorder=10, extend=extend)\n",
    "        streamplot = ax.streamplot(longitude, latitude, u_depth_avg, v_depth_avg, density=density, linewidth=0.5, color='black', transform=ccrs.PlateCarree(), zorder=10)\n",
    "\n",
    "        # GLIDERS\n",
    "        if show_gliders:\n",
    "            glider_dataframes = acquire_gliders(extent=map_extent, target_date=dt.datetime.now(), date_delta=dt.timedelta(days=1), requested_variables=[\"time\", \"longitude\", \"latitude\", \"profile_id\", \"depth\"], print_vars=False, target=\"all\", request_timeout=5, enable_parallel=False)\n",
    "            plot_add_gliders(ax, glider_dataframes, legend=True)\n",
    "            glider_legend = ax.get_legend()\n",
    "            if glider_legend:\n",
    "                glider_legend.get_frame().set_alpha(0.5)\n",
    "                ax.add_artist(glider_legend)\n",
    "        \n",
    "        # ROUTE\n",
    "        if show_route:\n",
    "            lats, lons = zip(*config[\"GPS_coords\"])\n",
    "            ax.plot(lons, lats, 'w-', transform=ccrs.PlateCarree(), linewidth=2.5, zorder=91)\n",
    "            ax.plot(lons, lats, 'k', transform=ccrs.PlateCarree(), linewidth=1.0, linestyle='--', alpha=0.6, zorder=92)\n",
    "            \n",
    "            start_coords = config[\"GPS_coords\"][0]\n",
    "            end_coords = config[\"GPS_coords\"][-1]\n",
    "            ax.scatter(*start_coords[::-1], color='purple', s=100, transform=ccrs.PlateCarree(), zorder=93)\n",
    "            for GPS_coord in config[\"GPS_coords\"][1:-1]:\n",
    "                ax.scatter(*GPS_coord[::-1], color='purple', s=100, transform=ccrs.PlateCarree(), zorder=93)\n",
    "            ax.scatter(*end_coords[::-1], color='purple', s=100, transform=ccrs.PlateCarree(), zorder=93)\n",
    "        \n",
    "        # QUALITY CONTROL\n",
    "        if show_qc:\n",
    "            (y_index, x_index), (lat_index, lon_index) = calculate_gridpoint(depth_average_data, latitude_qc, longitude_qc)\n",
    "            qc_lon = depth_average_data['lon'].isel(x=x_index, y=y_index).values\n",
    "            qc_lat = depth_average_data['lat'].isel(x=x_index, y=y_index).values\n",
    "            circle = Circle((qc_lon, qc_lat), radius=0.25, edgecolor='purple', facecolor='none', linewidth=2, transform=ccrs.PlateCarree(), zorder=95)\n",
    "            ax.add_patch(circle)\n",
    "        \n",
    "        # FEATURES\n",
    "        ax.add_feature(cfeature.GSHHSFeature(scale='full'), edgecolor=\"black\", facecolor=\"tan\", linewidth=0.25, zorder=90)\n",
    "        ax.add_feature(cfeature.RIVERS, edgecolor=\"steelblue\", linewidth=0.25, zorder=90)\n",
    "        ax.add_feature(cfeature.LAKES, edgecolor=\"black\", facecolor=\"lightsteelblue\", linewidth=0.25, zorder=90)\n",
    "        ax.add_feature(cfeature.BORDERS, edgecolor=\"black\", linewidth=0.25, zorder=90)\n",
    "        \n",
    "        plot_bathymetry(ax, config, depth_average_data, isobath1=-100, isobath2=-1000, show_legend=False)\n",
    "        bathymetry_legend = ax.get_legend()\n",
    "        if bathymetry_legend:\n",
    "            bathymetry_legend.get_frame().set_alpha(0.5)\n",
    "            ax.add_artist(bathymetry_legend)\n",
    "\n",
    "        # COLORBAR\n",
    "        cbar = fig.colorbar(contourf, orientation='vertical', extend=extend)\n",
    "        format_colorbar(fig, ax, cbar)\n",
    "        cbar.set_label('Depth Averaged Current Magnitude (m/s)', labelpad=10)\n",
    "        cbar.set_ticks(ticks)\n",
    "        cbar.set_ticklabels([f\"{tick:.1f}\" for tick in ticks])\n",
    "\n",
    "    # PLOT SETUP\n",
    "    fig, (ax1, ax2) = plt.subplots(1, 2, subplot_kw={'projection': ccrs.PlateCarree()}, figsize=(20, 10))\n",
    "\n",
    "    # PLOT EXECUTION\n",
    "    plot_magnitude(ax1, config, depth_average_data_1, latitude_qc, longitude_qc, model_name_1, density, show_gliders, show_route, show_qc, manual_extent)\n",
    "    plot_magnitude(ax2, config, depth_average_data_2, latitude_qc, longitude_qc, model_name_2, density, show_gliders, show_route, show_qc, manual_extent)\n",
    "\n",
    "    # TITLES\n",
    "    ax1.set_title(f\"{model_name_1}\", fontsize=14, fontweight='bold', pad=20)\n",
    "    ax2.set_title(f\"{model_name_2}\", fontsize=14, fontweight='bold', pad=20)\n",
    "    title_text = f\"Depth Averaged Currents - Depth Range: {config['max_depth']}m\"\n",
    "    model_name_dual = f\"{model_name_1} vs. {model_name_2}\"\n",
    "    format_titles(ax1, fig, config, model_data=depth_average_data_1, model_name=model_name_dual, title=title_text)\n",
    "    \n",
    "    # SAVE & CLOSE\n",
    "    file_datetime = format_save_datetime(depth_average_data_1)\n",
    "    fig_filename = f\"GGS_{config['glider_name']}_Magnitude_Dual_{config['max_depth']}m_{file_datetime}.png\"\n",
    "    fig_path = os.path.join(directory, fig_filename)\n",
    "    fig.savefig(fig_path, dpi=300, bbox_inches='tight')\n",
    "    plt.close(fig)\n",
    "    \n",
    "    # LOGGING\n",
    "    end_time = dt.datetime.now()\n",
    "    print(f\"Runtime: {end_time - start_time}\")\n"
   ]
  },
  {
   "cell_type": "code",
   "execution_count": 10,
   "metadata": {},
   "outputs": [
    {
     "name": "stdout",
     "output_type": "stream",
     "text": [
      "\n",
      "### CREATING DUAL (RTOFS, CMEMS) MAGNITUDE PLOT ###\n",
      "\n",
      "Found 4 Glider Datasets within search window.\n",
      "Glider Indexes found: sg625-20240119T0000, sg652-20240119T0000, stommel-20240128T1522, ru38-20240128T1523\n",
      "Found 4 Glider Datasets within search window.\n",
      "Glider Indexes found: sg625-20240119T0000, sg652-20240119T0000, stommel-20240128T1522, ru38-20240128T1523\n",
      "Runtime: 0:00:41.489332\n"
     ]
    }
   ],
   "source": [
    "GGS_plot_magnitude_dual(config, root_directory, depth_average_rtofs, depth_average_cmems, latitude_qc, longitude_qc, model_name_1=\"rtofs\", model_name_2=\"cmems\", density=2, show_gliders=True, show_route=False, show_qc=False, manual_extent=[-88, -84, 18, 22])\n"
   ]
  },
  {
   "cell_type": "code",
   "execution_count": null,
   "metadata": {},
   "outputs": [],
   "source": []
  }
 ],
 "metadata": {
  "kernelspec": {
   "display_name": "env_ggs0",
   "language": "python",
   "name": "python3"
  },
  "language_info": {
   "codemirror_mode": {
    "name": "ipython",
    "version": 3
   },
   "file_extension": ".py",
   "mimetype": "text/x-python",
   "name": "python",
   "nbconvert_exporter": "python",
   "pygments_lexer": "ipython3",
   "version": "3.12.1"
  }
 },
 "nbformat": 4,
 "nbformat_minor": 2
}
