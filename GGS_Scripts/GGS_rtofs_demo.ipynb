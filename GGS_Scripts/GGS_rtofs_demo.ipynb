{
 "cells": [
  {
   "cell_type": "code",
   "execution_count": null,
   "metadata": {},
   "outputs": [],
   "source": [
    "# =========================\n",
    "# FUNCTIONS\n",
    "# =========================\n",
    "\n",
    "from X_functions import *\n",
    "\n",
    "# =========================\n"
   ]
  },
  {
   "cell_type": "code",
   "execution_count": null,
   "metadata": {},
   "outputs": [],
   "source": [
    "# =========================\n",
    "# GGS CONFIGURATION\n",
    "# =========================\n",
    "\n",
    "from X_config import *\n",
    "\n",
    "# =========================\n"
   ]
  },
  {
   "cell_type": "code",
   "execution_count": null,
   "metadata": {},
   "outputs": [],
   "source": [
    "# =========================\n",
    "# [RTOFS] MODEL DATA PROCESSING\n",
    "# =========================\n",
    "\n",
    "from X_rtofs import *\n",
    "\n",
    "# =========================\n"
   ]
  },
  {
   "cell_type": "code",
   "execution_count": null,
   "metadata": {},
   "outputs": [],
   "source": [
    "# =========================\n",
    "# QUALITY CONTROL CHECKS\n",
    "# =========================\n",
    "\n",
    "from X_quality_control import *\n",
    "\n",
    "# =========================\n"
   ]
  },
  {
   "cell_type": "code",
   "execution_count": null,
   "metadata": {},
   "outputs": [],
   "source": [
    "# =========================\n",
    "# PLOTS\n",
    "# =========================\n",
    "\n",
    "from X_plots import *\n",
    "\n",
    "# =========================\n"
   ]
  },
  {
   "cell_type": "code",
   "execution_count": null,
   "metadata": {},
   "outputs": [],
   "source": [
    "date_indices=None\n",
    "\n",
    "config = GGS_config_static(date=dt.datetime.now(timezone.utc))\n",
    "root_directory = GGS_config_output(config)\n",
    "\n",
    "if date_indices is not None:\n",
    "    date_list = [config['date_list'][i] for i in date_indices]\n",
    "else:\n",
    "    date_list = config['date_list']\n",
    "\n",
    "for datetime_index in date_list:\n",
    "\n",
    "    formatted_datetime = datetime_format(datetime_index)\n",
    "    sub_directory = os.path.join(root_directory, formatted_datetime)\n",
    "    os.makedirs(sub_directory, exist_ok=True)\n",
    "\n",
    "    rtofs = RTOFS(datetime_index)\n",
    "    rtofs.rtofs_subset(config, subset=True)\n",
    "    rtofs_data = rtofs.data\n",
    "    rtofs_qc = rtofs.rtofs_qc\n",
    "    rtofs.rtofs_save(config, sub_directory)\n",
    "\n",
    "    depth_average_data, bin_average_data = interp_depth_average(config, sub_directory, rtofs_data)\n",
    "\n",
    "    qc_latitude = '21.100'\n",
    "    qc_longitude = '-86.25'\n",
    "    qc_uv_profile(config, sub_directory, rtofs_qc, depth_average_data, bin_average_data, qc_latitude, qc_longitude)\n",
    "\n",
    "    GGS_plot_currents(config, sub_directory, rtofs_data, depth_average_data, qc_latitude, qc_longitude, show_route=False, show_qc=False)\n",
    "    GGS_plot_threshold(config, sub_directory, rtofs_data, depth_average_data, qc_latitude, qc_longitude, mag1=0.0, mag2=0.2, mag3=0.3, mag4=0.4, mag5=0.5, show_route=False, show_qc=False)\n"
   ]
  },
  {
   "cell_type": "code",
   "execution_count": null,
   "metadata": {},
   "outputs": [],
   "source": []
  }
 ],
 "metadata": {
  "kernelspec": {
   "display_name": "env_ggs0",
   "language": "python",
   "name": "python3"
  },
  "language_info": {
   "codemirror_mode": {
    "name": "ipython",
    "version": 3
   },
   "file_extension": ".py",
   "mimetype": "text/x-python",
   "name": "python",
   "nbconvert_exporter": "python",
   "pygments_lexer": "ipython3",
   "version": "3.12.1"
  }
 },
 "nbformat": 4,
 "nbformat_minor": 2
}
