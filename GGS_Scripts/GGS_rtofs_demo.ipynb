{
 "cells": [
  {
   "cell_type": "code",
   "execution_count": 1,
   "metadata": {},
   "outputs": [],
   "source": [
    "# =========================\n",
    "# FUNCTIONS\n",
    "# =========================\n",
    "\n",
    "from X_functions import *\n",
    "\n",
    "# =========================\n"
   ]
  },
  {
   "cell_type": "code",
   "execution_count": 2,
   "metadata": {},
   "outputs": [
    {
     "name": "stdout",
     "output_type": "stream",
     "text": [
      "\n",
      "Glider Guidance System (GGS) Configuration:\n",
      "Glider_name: Yucatan\n",
      "\n",
      "Max depth: 1000\n",
      "Avg velocity: 0.5\n",
      "Battery capacity: 1000\n",
      "Battery drain: 5\n",
      "Satisfying radius: 1000\n",
      "Waypoint 1: (15.365189027409214, -90.57125927041142)\n",
      "Waypoint 2: (25.34749902549429, -80.19165763322677)\n",
      "\n"
     ]
    }
   ],
   "source": [
    "# =========================\n",
    "# GGS CONFIGURATION\n",
    "# =========================\n",
    "\n",
    "from X_config import *\n",
    "\n",
    "# =========================\n",
    "\n",
    "config, waypoints = GGS_config_static() # Manual\n",
    "# config, waypoints = GGS_config() # Automatic\n",
    "directory = GGS_config_output(config)\n",
    "\n",
    "# =========================\n"
   ]
  },
  {
   "cell_type": "code",
   "execution_count": 3,
   "metadata": {},
   "outputs": [
    {
     "name": "stdout",
     "output_type": "stream",
     "text": [
      "Leg 1: Waypoint 1 (15.365189027409214, -90.57125927041142) to Waypoint 2 (25.34749902549429, -80.19165763322677)\n",
      "Heading (degrees): 42.568861614169066\n",
      "Leg Distance (meters): 1548668.3838063795\n",
      "Time Taken (seconds): 3097336.767612759\n",
      "Time Taken (hours): 860.3713243368775\n",
      "Expected Battery Drain (amp-hours): 179.24402590351616\n",
      "\n",
      "Round Trip Details:\n",
      "Total Distance (meters): 1548668.3838063795\n",
      "Total Time (seconds): 3097336.767612759\n",
      "Total Time (hours): 860.3713243368775\n",
      "Total Expected Battery Drain (amp-hours): 179.24402590351616\n",
      "\n"
     ]
    },
    {
     "data": {
      "text/plain": [
       "(1548668.3838063795, 3097336.767612759, 860.3713243368775, 179.24402590351616)"
      ]
     },
     "execution_count": 3,
     "metadata": {},
     "output_type": "execute_result"
    }
   ],
   "source": [
    "# =========================\n",
    "# ROUTE ANALYSIS\n",
    "# =========================\n",
    "\n",
    "from X_route_analysis import *\n",
    "\n",
    "# =========================\n",
    "\n",
    "analysis_results = route_analysis(config, waypoints)\n",
    "route_analysis_output(config, directory, analysis_results)\n",
    "\n",
    "# =========================\n"
   ]
  },
  {
   "cell_type": "code",
   "execution_count": 4,
   "metadata": {},
   "outputs": [],
   "source": [
    "# =========================\n",
    "# [RTOFS] MODEL DATA PROCESSING\n",
    "# =========================\n",
    "\n",
    "from X_rtofs import *\n",
    "\n",
    "# =========================\n",
    "\n",
    "# rtofs = RTOFS()\n",
    "# rtofs.rtofs_subset(config, waypoints, subset=True)\n",
    "# rtofs_data = rtofs.data\n",
    "# rtofs_qc = rtofs.rtofs_qc\n",
    "# rtofs.rtofs_save(config, directory)\n",
    "# calculated_data, bin_data = interp_depth_average(config, directory, rtofs_data)\n",
    "\n",
    "# =========================\n",
    "\n",
    "rtofs_data = xr.open_dataset('C:/Users/salfr/OneDrive/Desktop/STF-0/!-GGS/0-Demo/Gulf of Mexico_rtofs_1000m_.nc')\n",
    "rtofs_qc = xr.open_dataset('C:/Users/salfr/OneDrive/Desktop/STF-0/!-GGS/0-Demo/Gulf of Mexico_rtofs_1000m_.nc')\n",
    "calculated_data = xr.open_dataset('C:/Users/salfr/OneDrive/Desktop/STF-0/!-GGS/0-Demo/Gulf of Mexico_calculated_data.nc')\n",
    "bin_data = xr.open_dataset('C:/Users/salfr/OneDrive/Desktop/STF-0/!-GGS/0-Demo/Gulf of Mexico_bin_data.nc')\n",
    "\n",
    "# =========================\n"
   ]
  },
  {
   "cell_type": "code",
   "execution_count": 5,
   "metadata": {},
   "outputs": [
    {
     "name": "stdout",
     "output_type": "stream",
     "text": [
      "Input Coordinates: (21.1, -86.25)\n",
      "Dataset Indices: (47, 150)\n",
      "Dataset Coordinates: (21.106, -86.240)\n",
      "Input Coordinates: (21.1, -86.25)\n",
      "Dataset Indices: (47, 150)\n",
      "Dataset Coordinates: (21.106, -86.240)\n",
      "Input Coordinates: (21.1, -86.25)\n",
      "Dataset Indices: (47, 150)\n",
      "Dataset Coordinates: (21.106, -86.240)\n"
     ]
    }
   ],
   "source": [
    "# =========================\n",
    "# QUALITY CONTROL CHECKS\n",
    "# =========================\n",
    "\n",
    "from X_quality_control import *\n",
    "\n",
    "# =========================\n",
    "\n",
    "qc_latitude = '21.100'\n",
    "qc_longitude = '-86.25'\n",
    "qc_uv_profile(config, directory, rtofs_qc, calculated_data, bin_data, qc_latitude, qc_longitude)\n",
    "\n",
    "# =========================\n"
   ]
  },
  {
   "cell_type": "code",
   "execution_count": 6,
   "metadata": {},
   "outputs": [],
   "source": [
    "# =========================\n",
    "# PLOTS\n",
    "# =========================\n",
    "\n",
    "from X_plots import *\n",
    "\n",
    "# =========================\n",
    "\n",
    "GGS_plot_currents(config, directory, waypoints, rtofs_data, calculated_data, qc_latitude, qc_longitude, extent='data', map_lons=[0, 0], map_lats=[0, 0], show_route=False, show_qc=False)\n",
    "GGS_plot_threshold(config, directory, waypoints, rtofs_data, calculated_data, qc_latitude, qc_longitude, mag1=0.2, mag2=0.3, mag3=0.4, extent='data', map_lons=[0, 0], map_lats=[0, 0], show_route=False, show_qc=False)\n",
    "\n",
    "# =========================\n"
   ]
  }
 ],
 "metadata": {
  "kernelspec": {
   "display_name": "env_ggs0",
   "language": "python",
   "name": "python3"
  },
  "language_info": {
   "codemirror_mode": {
    "name": "ipython",
    "version": 3
   },
   "file_extension": ".py",
   "mimetype": "text/x-python",
   "name": "python",
   "nbconvert_exporter": "python",
   "pygments_lexer": "ipython3",
   "version": "3.11.6"
  }
 },
 "nbformat": 4,
 "nbformat_minor": 2
}
