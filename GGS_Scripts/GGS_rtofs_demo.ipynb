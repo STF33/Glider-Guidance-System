{
 "cells": [
  {
   "cell_type": "code",
   "execution_count": 1,
   "metadata": {},
   "outputs": [],
   "source": [
    "# =========================\n",
    "# FUNCTIONS\n",
    "# =========================\n",
    "\n",
    "from X_functions import *\n",
    "\n",
    "# =========================\n"
   ]
  },
  {
   "cell_type": "code",
   "execution_count": 1,
   "metadata": {},
   "outputs": [
    {
     "name": "stdout",
     "output_type": "stream",
     "text": [
      "<xarray.DataArray 'time' (time: 6491)>\n",
      "array(['2019-07-17T06:00:00.000000000', '2019-07-17T12:00:00.000000000',\n",
      "       '2019-07-17T18:00:00.000000000', ..., '2024-01-10T12:00:00.000000000',\n",
      "       '2024-01-10T18:00:00.000000000', '2024-01-11T00:00:00.000000000'],\n",
      "      dtype='datetime64[ns]')\n",
      "Coordinates:\n",
      "  * time     (time) datetime64[ns] 2019-07-17T06:00:00 ... 2024-01-11\n",
      "Attributes:\n",
      "    long_name:    time\n",
      "    axis:         T\n",
      "    _ChunkSizes:  512\n"
     ]
    }
   ],
   "source": [
    "import xarray as xr\n",
    "\n",
    "def check_rtofs_time_format():\n",
    "    rtofs_access = \"https://tds.marine.rutgers.edu/thredds/dodsC/cool/rtofs/rtofs_us_east_scraped\"\n",
    "    try:\n",
    "        rtofs_raw = xr.open_dataset(rtofs_access)\n",
    "        print(rtofs_raw.time)\n",
    "    except Exception as e:\n",
    "        print(f\"Error loading RTOFS data: {e}\")\n",
    "\n",
    "check_rtofs_time_format()\n"
   ]
  },
  {
   "cell_type": "code",
   "execution_count": 2,
   "metadata": {},
   "outputs": [
    {
     "name": "stdout",
     "output_type": "stream",
     "text": [
      "\n",
      "### Glider Guidance System (GGS) Configuration ###\n",
      "\n",
      "Glider name: GoM\n",
      "\n",
      "Target date: 2024-01-09 19:06:32.719193+00:00\n",
      "\n",
      "Date list: DatetimeIndex(['2024-01-09 00:00:00+00:00', '2024-01-09 06:00:00+00:00',\n",
      "               '2024-01-09 12:00:00+00:00', '2024-01-09 18:00:00+00:00',\n",
      "               '2024-01-10 00:00:00+00:00'],\n",
      "              dtype='datetime64[ns, UTC]', freq='6H')\n",
      "\n",
      "Max Depth: 1000\n",
      "\n",
      "Extent:\n",
      "  Boundary 1: (15.25, -90.5)\n",
      "  Boundary 2: (25.25, -80.0)\n",
      "\n",
      "GPS_coords:\n",
      "  GPS_coord 1: (20.375, -86.541)\n",
      "  GPS_coord 2: (21.025, -86.349)\n",
      "  GPS_coord 3: (21.506, -86.528)\n",
      "\n"
     ]
    }
   ],
   "source": [
    "# =========================\n",
    "# GGS CONFIGURATION\n",
    "# =========================\n",
    "\n",
    "from X_config import *\n",
    "\n",
    "# =========================\n",
    "\n",
    "### FUNCTION:\n",
    "def GGS_config_static(date=ds.datetime.now(timezone.utc)):\n",
    "    \n",
    "    '''\n",
    "    Configure mission from a hardcoded configuration.\n",
    "    Intended for testing only.\n",
    "    \n",
    "    Args:\n",
    "    - date (datetime): Date of mission start.\n",
    "        - default: ds.datetime.utcnow()\n",
    "\n",
    "    Returns:\n",
    "    - config (dict): Glider Guidance System mission configuration.\n",
    "    '''\n",
    "    \n",
    "    target_date = date\n",
    "    date_list = get_date_list(date)\n",
    "\n",
    "    config = {\n",
    "        \"glider_name\": \"GoM\",\n",
    "        \"target_date\": target_date,\n",
    "        \"date_list\": date_list,\n",
    "        \"max_depth\": 1000,\n",
    "        # \"extent\": [(17.0, -98.0), (30.5, -80.0)],  # Yucatan\n",
    "        \"extent\": [(15.25, -90.5), (25.25, -80.0)],  # GoM\n",
    "        \"GPS_coords\": [(20.375, -86.541), (21.025, -86.349), (21.506, -86.528)]\n",
    "        }\n",
    "\n",
    "    return config\n",
    "\n",
    "# =========================\n",
    "\n",
    "config = GGS_config_static(date=ds.datetime.now(timezone.utc))\n",
    "directory = GGS_config_output(config)\n",
    "\n",
    "# =========================\n"
   ]
  },
  {
   "cell_type": "code",
   "execution_count": 3,
   "metadata": {},
   "outputs": [],
   "source": [
    "# =========================\n",
    "# [RTOFS] MODEL DATA PROCESSING\n",
    "# =========================\n",
    "\n",
    "from X_rtofs import *\n",
    "\n",
    "# =========================\n",
    "\n",
    "# rtofs = RTOFS()\n",
    "# rtofs.rtofs_subset(config, subset=True)\n",
    "# rtofs_data = rtofs.data\n",
    "# rtofs_qc = rtofs.rtofs_qc\n",
    "# rtofs.rtofs_save(config, directory)\n",
    "# calculated_data, bin_data = interp_depth_average(config, directory, rtofs_data)\n",
    "\n",
    "# =========================\n",
    "\n",
    "# [LOAD] Gulf of Mexico (1000m)\n",
    "rtofs_data = xr.open_dataset('C:/Users/sal_f/OneDrive/Desktop/STF-0/!-GGS/0-Demo/GoM_rtofs_1000m.nc')\n",
    "rtofs_qc = xr.open_dataset('C:/Users/sal_f/OneDrive/Desktop/STF-0/!-GGS/0-Demo/GoM_rtofs_1000m.nc')\n",
    "calculated_data = xr.open_dataset('C:/Users/sal_f/OneDrive/Desktop/STF-0/!-GGS/0-Demo/GoM_calculated_data.nc')\n",
    "bin_data = xr.open_dataset('C:/Users/sal_f/OneDrive/Desktop/STF-0/!-GGS/0-Demo/GoM_bin_data.nc')\n",
    "\n",
    "# =========================\n",
    "\n",
    "# [LOAD] Yucatan (1000m)\n",
    "# rtofs_data = xr.open_dataset('C:/Users/sal_f/OneDrive/Desktop/STF-0/!-GGS/0-Demo/Yucatan_rtofs_1000m.nc')\n",
    "# rtofs_qc = xr.open_dataset('C:/Users/sal_f/OneDrive/Desktop/STF-0/!-GGS/0-Demo/Yucatan_rtofs_1000m.nc')\n",
    "# calculated_data = xr.open_dataset('C:/Users/sal_f/OneDrive/Desktop/STF-0/!-GGS/0-Demo/Yucatan_calculated_data.nc')\n",
    "# bin_data = xr.open_dataset('C:/Users/sal_f/OneDrive/Desktop/STF-0/!-GGS/0-Demo/Yucatan_bin_data.nc')\n",
    "\n",
    "# =========================\n"
   ]
  },
  {
   "cell_type": "code",
   "execution_count": 4,
   "metadata": {},
   "outputs": [
    {
     "name": "stdout",
     "output_type": "stream",
     "text": [
      "Input Coordinates: (21.1, -86.25)\n",
      "Dataset Indices: (54, 146)\n",
      "Dataset Coordinates: (21.106, -86.240)\n",
      "Input Coordinates: (21.1, -86.25)\n",
      "Dataset Indices: (54, 146)\n",
      "Dataset Coordinates: (21.106, -86.240)\n",
      "Input Coordinates: (21.1, -86.25)\n",
      "Dataset Indices: (54, 146)\n",
      "Dataset Coordinates: (21.106, -86.240)\n"
     ]
    }
   ],
   "source": [
    "# =========================\n",
    "# QUALITY CONTROL CHECKS\n",
    "# =========================\n",
    "\n",
    "from X_quality_control import *\n",
    "\n",
    "# =========================\n",
    "\n",
    "qc_latitude = '21.100'\n",
    "qc_longitude = '-86.25'\n",
    "qc_uv_profile(config, directory, rtofs_qc, calculated_data, bin_data, qc_latitude, qc_longitude)\n",
    "\n",
    "# =========================\n"
   ]
  },
  {
   "cell_type": "code",
   "execution_count": 5,
   "metadata": {},
   "outputs": [],
   "source": [
    "# =========================\n",
    "# PLOTS\n",
    "# =========================\n",
    " \n",
    "from X_plots import *\n",
    "\n",
    "# =========================\n",
    "\n",
    "GGS_plot_currents(config, directory, rtofs_data, calculated_data, qc_latitude, qc_longitude, show_route=False, show_qc=False)\n",
    "GGS_plot_threshold(config, directory, rtofs_data, calculated_data, qc_latitude, qc_longitude, mag1=0.0, mag2=0.2, mag3=0.3, mag4=0.4, mag5=0.5, show_route=False, show_qc=False)\n",
    "\n",
    "# =========================\n"
   ]
  },
  {
   "cell_type": "code",
   "execution_count": null,
   "metadata": {},
   "outputs": [],
   "source": []
  }
 ],
 "metadata": {
  "kernelspec": {
   "display_name": "env_ggs0",
   "language": "python",
   "name": "python3"
  },
  "language_info": {
   "codemirror_mode": {
    "name": "ipython",
    "version": 3
   },
   "file_extension": ".py",
   "mimetype": "text/x-python",
   "name": "python",
   "nbconvert_exporter": "python",
   "pygments_lexer": "ipython3",
   "version": "3.12.1"
  }
 },
 "nbformat": 4,
 "nbformat_minor": 2
}
