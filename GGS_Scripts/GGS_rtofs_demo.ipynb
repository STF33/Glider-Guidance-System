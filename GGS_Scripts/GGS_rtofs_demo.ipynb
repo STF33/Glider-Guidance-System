{
 "cells": [
  {
   "cell_type": "code",
   "execution_count": 1,
   "metadata": {},
   "outputs": [],
   "source": [
    "# =========================\n",
    "# FUNCTIONS\n",
    "# =========================\n",
    "\n",
    "from X_functions import *\n",
    "\n",
    "# =========================\n"
   ]
  },
  {
   "cell_type": "code",
   "execution_count": 2,
   "metadata": {},
   "outputs": [
    {
     "name": "stdout",
     "output_type": "stream",
     "text": [
      "\n",
      "Glider Guidance System (GGS) Configuration:\n",
      "Glider_name: Gulf of Mexico\n",
      "\n",
      "Max depth: 1000\n",
      "Avg velocity: 0.5\n",
      "Battery capacity: 1000\n",
      "Battery drain: 5\n",
      "Satisfying radius: 1000\n",
      "Waypoint 1: (17.0, -98.0)\n",
      "Waypoint 2: (30.5, -80.0)\n",
      "\n"
     ]
    }
   ],
   "source": [
    "# =========================\n",
    "# GGS CONFIGURATION\n",
    "# =========================\n",
    "\n",
    "from X_config import *\n",
    "\n",
    "# =========================\n",
    "\n",
    "config, waypoints = GGS_config_static() # Manual\n",
    "# config, waypoints = GGS_config() # Automatic\n",
    "directory = GGS_config_output(config)\n",
    "\n",
    "# =========================\n"
   ]
  },
  {
   "cell_type": "code",
   "execution_count": 3,
   "metadata": {},
   "outputs": [
    {
     "name": "stdout",
     "output_type": "stream",
     "text": [
      "Leg 1: Waypoint 1 (17.0, -98.0) to Waypoint 2 (30.5, -80.0)\n",
      "Heading (degrees): 47.29080231916237\n",
      "Leg Distance (meters): 2362301.5594538096\n",
      "Time Taken (seconds): 4724603.118907619\n",
      "Time Taken (hours): 1312.3897552521164\n",
      "Expected Battery Drain (amp-hours): 273.4145323441909\n",
      "\n",
      "Round Trip Details:\n",
      "Total Distance (meters): 2362301.5594538096\n",
      "Total Time (seconds): 4724603.118907619\n",
      "Total Time (hours): 1312.3897552521164\n",
      "Total Expected Battery Drain (amp-hours): 273.4145323441909\n",
      "\n"
     ]
    },
    {
     "data": {
      "text/plain": [
       "(2362301.5594538096, 4724603.118907619, 1312.3897552521164, 273.4145323441909)"
      ]
     },
     "execution_count": 3,
     "metadata": {},
     "output_type": "execute_result"
    }
   ],
   "source": [
    "# =========================\n",
    "# ROUTE ANALYSIS\n",
    "# =========================\n",
    "\n",
    "from X_route_analysis import *\n",
    "\n",
    "# =========================\n",
    "\n",
    "analysis_results = route_analysis(config, waypoints)\n",
    "route_analysis_output(config, directory, analysis_results)\n",
    "\n",
    "# =========================\n"
   ]
  },
  {
   "cell_type": "code",
   "execution_count": 4,
   "metadata": {},
   "outputs": [],
   "source": [
    "# =========================\n",
    "# [RTOFS] MODEL DATA PROCESSING\n",
    "# =========================\n",
    "\n",
    "from X_rtofs import *\n",
    "\n",
    "# =========================\n",
    "\n",
    "rtofs = RTOFS()\n",
    "rtofs.rtofs_subset(config, waypoints, subset=True)\n",
    "rtofs_data = rtofs.data\n",
    "rtofs_qc = rtofs.rtofs_qc\n",
    "rtofs.rtofs_save(config, directory)\n",
    "calculated_data, bin_data = interp_depth_average(config, directory, rtofs_data)\n",
    "\n",
    "# =========================\n",
    "\n",
    "# rtofs_data = xr.open_dataset('C:/Users/salfr/OneDrive/Desktop/STF-0/!-GGS/0-Demo/Gulf of Mexico_rtofs_1000m_.nc')\n",
    "# rtofs_qc = xr.open_dataset('C:/Users/salfr/OneDrive/Desktop/STF-0/!-GGS/0-Demo/Gulf of Mexico_rtofs_1000m_.nc')\n",
    "# calculated_data = xr.open_dataset('C:/Users/salfr/OneDrive/Desktop/STF-0/!-GGS/0-Demo/Gulf of Mexico_calculated_data.nc')\n",
    "# bin_data = xr.open_dataset('C:/Users/salfr/OneDrive/Desktop/STF-0/!-GGS/0-Demo/Gulf of Mexico_bin_data.nc')\n",
    "\n",
    "# =========================\n",
    "\n",
    "# rtofs_data = xr.open_dataset('C:/Users/salfr/Downloads/GGS_Yucatan/Yucatan_rtofs_1000m_.nc')\n",
    "# rtofs_qc = xr.open_dataset('C:/Users/salfr/Downloads/GGS_Yucatan/Yucatan_rtofs_1000m_.nc')\n",
    "# calculated_data = xr.open_dataset('C:/Users/salfr/Downloads/GGS_Yucatan/Yucatan_calculated_data.nc')\n",
    "# bin_data = xr.open_dataset('C:/Users/salfr/Downloads/GGS_Yucatan/Yucatan_bin_data.nc')\n"
   ]
  },
  {
   "cell_type": "code",
   "execution_count": 5,
   "metadata": {},
   "outputs": [
    {
     "name": "stdout",
     "output_type": "stream",
     "text": [
      "Input Coordinates: (21.1, -86.25)\n",
      "Dataset Indices: (270, 172)\n",
      "Dataset Coordinates: (21.106, -86.240)\n",
      "Input Coordinates: (21.1, -86.25)\n",
      "Dataset Indices: (60, 153)\n",
      "Dataset Coordinates: (21.106, -86.240)\n",
      "Input Coordinates: (21.1, -86.25)\n",
      "Dataset Indices: (60, 153)\n",
      "Dataset Coordinates: (21.106, -86.240)\n"
     ]
    }
   ],
   "source": [
    "# =========================\n",
    "# QUALITY CONTROL CHECKS\n",
    "# =========================\n",
    "\n",
    "from X_quality_control import *\n",
    "\n",
    "# =========================\n",
    "\n",
    "qc_latitude = '21.100'\n",
    "qc_longitude = '-86.25'\n",
    "qc_uv_profile(config, directory, rtofs_qc, calculated_data, bin_data, qc_latitude, qc_longitude)\n",
    "\n",
    "# =========================\n"
   ]
  },
  {
   "cell_type": "code",
   "execution_count": 6,
   "metadata": {},
   "outputs": [],
   "source": [
    "# =========================\n",
    "# PLOTS\n",
    "# =========================\n",
    "\n",
    "from X_plots import *\n",
    "\n",
    "# =========================\n",
    "\n",
    "GGS_plot_currents(config, directory, waypoints, rtofs_data, calculated_data, qc_latitude, qc_longitude, extent='data', map_lons=[0, 0], map_lats=[0, 0], show_route=False, show_qc=False)\n",
    "GGS_plot_threshold(config, directory, waypoints, rtofs_data, calculated_data, qc_latitude, qc_longitude, mag1=0.0, mag2=0.2, mag3=0.3, mag4=0.4, mag5=0.5, extent='data', map_lons=[0, 0], map_lats=[0, 0], show_route=False, show_qc=False)\n",
    "\n",
    "# =========================\n"
   ]
  },
  {
   "cell_type": "code",
   "execution_count": null,
   "metadata": {},
   "outputs": [],
   "source": []
  }
 ],
 "metadata": {
  "kernelspec": {
   "display_name": "env_ggs0",
   "language": "python",
   "name": "python3"
  },
  "language_info": {
   "codemirror_mode": {
    "name": "ipython",
    "version": 3
   },
   "file_extension": ".py",
   "mimetype": "text/x-python",
   "name": "python",
   "nbconvert_exporter": "python",
   "pygments_lexer": "ipython3",
   "version": "3.11.6"
  }
 },
 "nbformat": 4,
 "nbformat_minor": 2
}
