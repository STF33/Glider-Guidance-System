{
 "cells": [
  {
   "cell_type": "code",
   "execution_count": null,
   "metadata": {},
   "outputs": [],
   "source": [
    "# =========================\n",
    "# FUNCTIONS\n",
    "# =========================\n",
    "\n",
    "from X_functions import *\n",
    "\n",
    "# =========================\n"
   ]
  },
  {
   "cell_type": "code",
   "execution_count": null,
   "metadata": {},
   "outputs": [],
   "source": [
    "# =========================\n",
    "# GGS CONFIGURATION\n",
    "# =========================\n",
    "\n",
    "from X_config import *\n",
    "\n",
    "# =========================\n",
    "\n",
    "### FUNCTION:\n",
    "def GGS_config_static():\n",
    "    \n",
    "    '''\n",
    "    Configure mission from a hardcoded configuration.\n",
    "    Intended for testing only.\n",
    "    \n",
    "    Args:\n",
    "    - None\n",
    "\n",
    "    Returns:\n",
    "    - config (dict): Glider Guidance System mission configuration.\n",
    "    '''\n",
    "\n",
    "    config = {\n",
    "        \"glider_name\": \"Yucatan\",\n",
    "        \"max_depth\": 1000,\n",
    "        # \"extent\": [(17.0, -98.0), (30.5, -80.0)],  # GoM\n",
    "        \"extent\": [(15.25, -90.5), (25.25, -80.0)],  # Yucatan\n",
    "        \"GPS_coords\": [(20.375, -86.541), (21.025, -86.349), (21.506, -86.528)]\n",
    "        }\n",
    "\n",
    "    return config\n",
    "\n",
    "# =========================\n",
    "\n",
    "config = GGS_config_static()\n",
    "directory = GGS_config_output(config)\n",
    "\n",
    "# =========================\n"
   ]
  },
  {
   "cell_type": "code",
   "execution_count": null,
   "metadata": {},
   "outputs": [],
   "source": [
    "# =========================\n",
    "# [RTOFS] MODEL DATA PROCESSING\n",
    "# =========================\n",
    "\n",
    "from X_rtofs import *\n",
    "\n",
    "# =========================\n",
    "\n",
    "# rtofs = RTOFS()\n",
    "# rtofs.rtofs_subset(config, subset=True)\n",
    "# rtofs_data = rtofs.data\n",
    "# rtofs_qc = rtofs.rtofs_qc\n",
    "# rtofs.rtofs_save(config, directory)\n",
    "# calculated_data, bin_data = interp_depth_average(config, directory, rtofs_data)\n",
    "\n",
    "# =========================\n",
    "\n",
    "# [LOAD] Gulf of Mexico (1000m)\n",
    "rtofs_data = xr.open_dataset('C:/Users/sal_f/OneDrive/Desktop/STF-0/!-GGS/0-Demo/GoM_rtofs_1000m.nc')\n",
    "rtofs_qc = xr.open_dataset('C:/Users/sal_f/OneDrive/Desktop/STF-0/!-GGS/0-Demo/GoM_rtofs_1000m.nc')\n",
    "calculated_data = xr.open_dataset('C:/Users/sal_f/OneDrive/Desktop/STF-0/!-GGS/0-Demo/GoM_calculated_data.nc')\n",
    "bin_data = xr.open_dataset('C:/Users/sal_f/OneDrive/Desktop/STF-0/!-GGS/0-Demo/GoM_bin_data.nc')\n",
    "\n",
    "# =========================\n",
    "\n",
    "# [LOAD] Yucatan (1000m)\n",
    "# rtofs_data = xr.open_dataset('C:/Users/sal_f/OneDrive/Desktop/STF-0/!-GGS/0-Demo/Yucatan_rtofs_1000m.nc')\n",
    "# rtofs_qc = xr.open_dataset('C:/Users/sal_f/OneDrive/Desktop/STF-0/!-GGS/0-Demo/Yucatan_rtofs_1000m.nc')\n",
    "# calculated_data = xr.open_dataset('C:/Users/sal_f/OneDrive/Desktop/STF-0/!-GGS/0-Demo/Yucatan_calculated_data.nc')\n",
    "# bin_data = xr.open_dataset('C:/Users/sal_f/OneDrive/Desktop/STF-0/!-GGS/0-Demo/Yucatan_bin_data.nc')\n",
    "\n",
    "# =========================\n"
   ]
  },
  {
   "cell_type": "code",
   "execution_count": null,
   "metadata": {},
   "outputs": [],
   "source": [
    "# =========================\n",
    "# QUALITY CONTROL CHECKS\n",
    "# =========================\n",
    "\n",
    "from X_quality_control import *\n",
    "\n",
    "# =========================\n",
    "\n",
    "qc_latitude = '21.100'\n",
    "qc_longitude = '-86.25'\n",
    "qc_uv_profile(config, directory, rtofs_qc, calculated_data, bin_data, qc_latitude, qc_longitude)\n",
    "\n",
    "# =========================\n"
   ]
  },
  {
   "cell_type": "code",
   "execution_count": null,
   "metadata": {},
   "outputs": [],
   "source": [
    "# =========================\n",
    "# PLOTS\n",
    "# =========================\n",
    " \n",
    "from X_plots import *\n",
    "\n",
    "# =========================\n",
    "\n",
    "GGS_plot_currents(config, directory, rtofs_data, calculated_data, qc_latitude, qc_longitude, show_route=False, show_qc=False)\n",
    "GGS_plot_threshold(config, directory, rtofs_data, calculated_data, qc_latitude, qc_longitude, mag1=0.0, mag2=0.2, mag3=0.3, mag4=0.4, mag5=0.5, show_route=False, show_qc=False)\n",
    "\n",
    "# =========================\n"
   ]
  },
  {
   "cell_type": "code",
   "execution_count": null,
   "metadata": {},
   "outputs": [],
   "source": []
  }
 ],
 "metadata": {
  "kernelspec": {
   "display_name": "env_ggs0",
   "language": "python",
   "name": "python3"
  },
  "language_info": {
   "codemirror_mode": {
    "name": "ipython",
    "version": 3
   },
   "file_extension": ".py",
   "mimetype": "text/x-python",
   "name": "python",
   "nbconvert_exporter": "python",
   "pygments_lexer": "ipython3",
   "version": "3.12.1"
  }
 },
 "nbformat": 4,
 "nbformat_minor": 2
}
