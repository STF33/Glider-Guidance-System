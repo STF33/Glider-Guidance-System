{
 "cells": [
  {
   "cell_type": "code",
   "execution_count": null,
   "metadata": {},
   "outputs": [],
   "source": [
    "# =========================\n",
    "# FUNCTIONS\n",
    "# =========================\n",
    "\n",
    "from SUB_functions import *\n",
    "\n",
    "# =========================\n"
   ]
  },
  {
   "cell_type": "code",
   "execution_count": null,
   "metadata": {},
   "outputs": [],
   "source": [
    "# =========================\n",
    "# GGS CONFIGURATION\n",
    "# =========================\n",
    "\n",
    "from SUP_config import *\n",
    "\n",
    "# =========================\n",
    "\n",
    "config, waypoints = GGS_config_static() # Manual\n",
    "# config, waypoints = GGS_config() # Automatic\n",
    "directory = GGS_config_output(config)\n",
    "\n",
    "# =========================\n"
   ]
  },
  {
   "cell_type": "code",
   "execution_count": null,
   "metadata": {},
   "outputs": [],
   "source": [
    "# =========================\n",
    "# ROUTE ANALYSIS\n",
    "# =========================\n",
    "\n",
    "from SUP_route_analysis import *\n",
    "\n",
    "# =========================\n",
    "\n",
    "analysis_results = route_analysis(config, waypoints)\n",
    "route_analysis_output(config, directory, analysis_results)\n",
    "\n",
    "# =========================\n"
   ]
  },
  {
   "cell_type": "code",
   "execution_count": null,
   "metadata": {},
   "outputs": [],
   "source": [
    "# =========================\n",
    "# [RTOFS] MODEL DATA PROCESSING\n",
    "# =========================\n",
    "\n",
    "from MOD_rtofs import *\n",
    "\n",
    "# =========================\n",
    "\n",
    "# rtofs = RTOFS()\n",
    "# rtofs.rtofs_subset(config, waypoints, subset=True)\n",
    "# rtofs_data = rtofs.data\n",
    "# rtofs_qc = rtofs.rtofs_qc\n",
    "# rtofs.rtofs_save(config, directory)\n",
    "# calculated_data, bin_data = interp_depth_average(config, directory, rtofs_data)\n",
    "\n",
    "# =========================\n",
    "\n",
    "rtofs_data = xr.open_dataset('C:/Users/salfr/OneDrive/Desktop/STF-0/!-GGS/0-Demo/Gulf of Mexico_rtofs_1000.0m_.nc')\n",
    "rtofs_qc = xr.open_dataset('C:/Users/salfr/OneDrive/Desktop/STF-0/!-GGS/0-Demo/Gulf of Mexico_rtofs_1000.0m_.nc')\n",
    "calculated_data = xr.open_dataset('C:/Users/salfr/OneDrive/Desktop/STF-0/!-GGS/0-Demo/Gulf of Mexico_calculated_data.nc')\n",
    "bin_data = xr.open_dataset('C:/Users/salfr/OneDrive/Desktop/STF-0/!-GGS/0-Demo/Gulf of Mexico_bin_data.nc')\n",
    "\n",
    "# =========================\n"
   ]
  },
  {
   "cell_type": "code",
   "execution_count": null,
   "metadata": {},
   "outputs": [],
   "source": [
    "# =========================\n",
    "# QUALITY CONTROL CHECKS\n",
    "# =========================\n",
    "\n",
    "from SUP_qualitycontrol import *\n",
    "\n",
    "# =========================\n",
    "\n",
    "qc_latitude = '21.100'\n",
    "qc_longitude = '-86.425'\n",
    "qc_uv_profile(config, directory, rtofs_qc, calculated_data, bin_data, qc_latitude, qc_longitude)\n",
    "\n",
    "# =========================\n"
   ]
  },
  {
   "cell_type": "code",
   "execution_count": null,
   "metadata": {},
   "outputs": [],
   "source": [
    "# =========================\n",
    "# PLOTS\n",
    "# =========================\n",
    "\n",
    "from SUP_plots import *\n",
    "\n",
    "# =========================\n",
    "\n",
    "GGS_plot_currents(config, directory, waypoints, rtofs_data, calculated_data, qc_latitude, qc_longitude, extent='data', map_lons=[0, 0], map_lats=[0, 0], show_route=False, show_qc=False)\n",
    "GGS_plot_threshold(config, directory, waypoints, rtofs_data, calculated_data, qc_latitude, qc_longitude, mag1=0.25, mag2=0.5, mag3=0.75, extent='data', map_lons=[0, 0], map_lats=[0, 0], show_route=False, show_qc=False)\n",
    "\n",
    "# =========================\n"
   ]
  }
 ],
 "metadata": {
  "kernelspec": {
   "display_name": "env_ggs0",
   "language": "python",
   "name": "python3"
  },
  "language_info": {
   "codemirror_mode": {
    "name": "ipython",
    "version": 3
   },
   "file_extension": ".py",
   "mimetype": "text/x-python",
   "name": "python",
   "nbconvert_exporter": "python",
   "pygments_lexer": "ipython3",
   "version": "3.11.6"
  }
 },
 "nbformat": 4,
 "nbformat_minor": 2
}
