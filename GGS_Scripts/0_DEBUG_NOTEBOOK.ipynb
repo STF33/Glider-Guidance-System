{
 "cells": [
  {
   "cell_type": "code",
   "execution_count": 1,
   "metadata": {},
   "outputs": [],
   "source": [
    "# =========================\n",
    "# FUNCTIONS\n",
    "# =========================\n",
    "\n",
    "### IMPORT:\n",
    "from SUB_functions import *\n",
    "\n",
    "# =========================\n"
   ]
  },
  {
   "cell_type": "code",
   "execution_count": 2,
   "metadata": {},
   "outputs": [
    {
     "name": "stdout",
     "output_type": "stream",
     "text": [
      "\n",
      "Glider Guidance System (GGS) Configuration:\n",
      "Glider_name: Gulf of Mexico\n",
      "\n",
      "Max depth: 1000.0\n",
      "Avg velocity: 0.5\n",
      "Battery capacity: 1000\n",
      "Battery drain: 5\n",
      "Satisfying radius: 1000\n",
      "Waypoint 1: (18.00510558149081, -97.75507520595109)\n",
      "Waypoint 2: (30.68658969837126, -80.17002034924428)\n",
      "\n"
     ]
    }
   ],
   "source": [
    "# =========================\n",
    "# CONFIG\n",
    "# =========================\n",
    "\n",
    "from SUP_config import *\n",
    "\n",
    "# =========================\n",
    "\n",
    "config, waypoints = GGS_config_static() # Manual\n",
    "# config, waypoints = GGS_config() # Automatic\n",
    "\n",
    "directory = GGS_config_output(config)\n"
   ]
  },
  {
   "cell_type": "code",
   "execution_count": 3,
   "metadata": {},
   "outputs": [
    {
     "name": "stdout",
     "output_type": "stream",
     "text": [
      "Leg 1: Waypoint 1 (18.00510558149081, -97.75507520595109) to Waypoint 2 (30.68658969837126, -80.17002034924428)\n",
      "Heading (degrees): 48.242836535208596\n",
      "Leg Distance (meters): 2266463.1941322847\n",
      "Time Taken (seconds): 4532926.388264569\n",
      "Time Taken (hours): 1259.1462189623803\n",
      "Expected Battery Drain (amp-hours): 262.32212895049594\n",
      "\n",
      "Round Trip Details:\n",
      "Total Distance (meters): 2266463.1941322847\n",
      "Total Time (seconds): 4532926.388264569\n",
      "Total Time (hours): 1259.1462189623803\n",
      "Total Expected Battery Drain (amp-hours): 262.32212895049594\n",
      "\n"
     ]
    },
    {
     "data": {
      "text/plain": [
       "(2266463.1941322847, 4532926.388264569, 1259.1462189623803, 262.32212895049594)"
      ]
     },
     "execution_count": 3,
     "metadata": {},
     "output_type": "execute_result"
    }
   ],
   "source": [
    "# =========================\n",
    "# ROUTE ANALYSIS\n",
    "# =========================\n",
    "\n",
    "from SUP_route_analysis import *\n",
    "\n",
    "# =========================\n",
    "\n",
    "analysis_results = route_analysis(config, waypoints)\n",
    "\n",
    "route_analysis_output(config, directory, analysis_results)\n"
   ]
  },
  {
   "cell_type": "code",
   "execution_count": 4,
   "metadata": {},
   "outputs": [],
   "source": [
    "# =========================\n",
    "# [RTOFS] DATA PROCESSING\n",
    "# =========================\n",
    "\n",
    "from MOD_rtofs import *\n",
    "\n",
    "# =========================\n",
    "\n",
    "rtofs = RTOFS()\n",
    "rtofs.rtofs_subset(config, waypoints, subset=True)\n",
    "rtofs_data = rtofs.data\n",
    "rtofs_qc = rtofs.rtofs_qc\n",
    "rtofs.rtofs_save(config, directory)\n",
    "\n",
    "calculated_data, bin_data = interp_average(config, directory, rtofs_data)\n"
   ]
  },
  {
   "cell_type": "code",
   "execution_count": 6,
   "metadata": {},
   "outputs": [],
   "source": [
    "# =========================\n",
    "# QUALITY CONTROL CHECKS\n",
    "# =========================\n",
    "\n",
    "### IMPORT:\n",
    "from SUP_qualitycontrol import *\n",
    "\n",
    "# =========================\n",
    "\n",
    "latitude = '21.5'\n",
    "longitude = '-85.5'\n",
    "qc_currents_comparison(config, directory, rtofs_data, rtofs_qc, latitude, longitude)\n",
    "qc_currents_profile(config, directory, rtofs_data, calculated_data, bin_data, latitude, longitude)\n"
   ]
  },
  {
   "cell_type": "code",
   "execution_count": 8,
   "metadata": {},
   "outputs": [],
   "source": [
    "# =========================\n",
    "# PLOTS\n",
    "# =========================\n",
    "\n",
    "### IMPORT:\n",
    "from SUP_plots import *\n",
    "\n",
    "# =========================\n",
    "\n",
    "GGS_plot_currents(config, waypoints, directory, rtofs_data, calculated_data, extent='data', map_lons=[0, 0], map_lats=[0, 0], show_route=False)\n"
   ]
  },
  {
   "cell_type": "code",
   "execution_count": null,
   "metadata": {},
   "outputs": [],
   "source": []
  }
 ],
 "metadata": {
  "kernelspec": {
   "display_name": "env_ggs0",
   "language": "python",
   "name": "python3"
  },
  "language_info": {
   "codemirror_mode": {
    "name": "ipython",
    "version": 3
   },
   "file_extension": ".py",
   "mimetype": "text/x-python",
   "name": "python",
   "nbconvert_exporter": "python",
   "pygments_lexer": "ipython3",
   "version": "3.11.6"
  }
 },
 "nbformat": 4,
 "nbformat_minor": 2
}
